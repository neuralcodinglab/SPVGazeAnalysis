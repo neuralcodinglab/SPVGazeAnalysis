{
 "cells": [
  {
   "cell_type": "code",
   "execution_count": 2,
   "id": "177ff7bf",
   "metadata": {},
   "outputs": [],
   "source": [
    "import os, sys\n",
    "\n",
    "# Local modules\n",
    "sys.path.append('./..')\n",
    "import data_processing\n",
    "import visualization\n",
    "import stats\n",
    "\n",
    "# Data management\n",
    "import pandas as pd \n",
    "import numpy as np\n",
    "\n",
    "# Visualization\n",
    "import matplotlib.pyplot as plt\n",
    "import seaborn as sns\n",
    "import matplotlib\n",
    "from matplotlib.patches import Patch\n"
   ]
  },
  {
   "cell_type": "code",
   "execution_count": 3,
   "id": "6c4d0902",
   "metadata": {},
   "outputs": [
    {
     "data": {
      "text/plain": [
       "<module 'data_processing' from 'C:\\\\Users\\\\Jaap\\\\Desktop\\\\NESTOR\\\\SPVGazeAnalysis\\\\exit_survey\\\\./..\\\\data_processing.py'>"
      ]
     },
     "execution_count": 3,
     "metadata": {},
     "output_type": "execute_result"
    }
   ],
   "source": [
    "# Force reload modules  ## CAN BE REMOVED WHEN DONE\n",
    "import importlib\n",
    "importlib.reload(visualization)\n",
    "importlib.reload(stats)\n",
    "importlib.reload(data_processing)"
   ]
  },
  {
   "cell_type": "code",
   "execution_count": 4,
   "id": "ee592607-3d45-422b-9875-64ff0a590041",
   "metadata": {},
   "outputs": [],
   "source": [
    "subjects = data_processing.SUBJECTS_EXP1\n",
    "exp_filenames, clbr_filenames = data_processing.get_filenames(subjects=subjects, \n",
    "                                                              data_keys = ['TrialConfigRecord'])\n",
    "exp_data = data_processing.load_data_from_filenames(exp_filenames)\n",
    "trc_data = exp_data['TrialConfigRecord'].set_index(['Subject', 'Block', 'RelativeTrialNumber'])"
   ]
  },
  {
   "cell_type": "markdown",
   "id": "2500af6a-46d5-44f0-8a37-b53ae021e4aa",
   "metadata": {},
   "source": [
    "### Block evaluations"
   ]
  },
  {
   "cell_type": "code",
   "execution_count": 7,
   "id": "a16baf7a-11e3-4524-9104-62f4964422f7",
   "metadata": {},
   "outputs": [],
   "source": [
    "fn = \"../../_Datasets/SPVGazeData/_Exp1BlockEvaluation.csv\"\n",
    "block_evaluation = pd.read_csv(fn, sep=';')\n",
    "block_evaluation.rename(columns={'Block Information [Subject ID]': 'Subject',\n",
    "                                 'Block Information [Block ID]': 'Block',\n",
    "                                }, inplace=True)\n",
    "block_evaluation['Subject'] = block_evaluation.Subject.apply(lambda s: f'S{s:02d}')\n",
    "block_evaluation.replace({'1st trial / condition of this block': 0,\n",
    "                          '2nd trial / condition of this block': 1,\n",
    "                          '3rd trial / condition of this block': 2,}, inplace=True)\n",
    "block_evaluation['Block'] -=1\n",
    "\n",
    "\n",
    "for col in block_evaluation.columns:\n",
    "    if col.startswith('Rank the conditions in order of'):\n",
    "        # Map number to condition\n",
    "        idx = list(block_evaluation[['Subject', 'Block', col]].itertuples(index=False, name=None))\n",
    "        block_evaluation[col] = trc_data.loc[idx].GazeCondition.values\n",
    "rename_columns = {'Rank the conditions in order of how tiring they were, with the least tiring at the top and most tiring at the bottom. [Rank 1]': 'LeastTiring',\n",
    "                  'Rank the conditions in order of how tiring they were, with the least tiring at the top and most tiring at the bottom. [Rank 3]': 'MostTiring',\n",
    "                  'Rank the conditions in order of comfort, with the most comfortable at the top and least comfortable at the bottom. [Rank 1]': 'MostComfortable',\n",
    "                  'Rank the conditions in order of comfort, with the most comfortable at the top and least comfortable at the bottom. [Rank 3]': 'LeastComfortable',\n",
    "                  'Select all conditions that you experienced nausea or motion sickness in. [1st trial / condition of this block]': 'MotionSick0',\n",
    "                  'Select all conditions that you experienced nausea or motion sickness in. [2nd trial / condition of this block]': 'MotionSick1',\n",
    "                  'Select all conditions that you experienced nausea or motion sickness in. [3rd trial / condition of this block]': 'MotionSick2',\n",
    "                  'Rate the conditions in regard to how well you could navigate in each of them from 1 to 5. A lower number indicates you had a harder time navigating in it.  [1st trial / condition of this block]':'Rating0',\n",
    "                  'Rate the conditions in regard to how well you could navigate in each of them from 1 to 5. A lower number indicates you had a harder time navigating in it.  [2nd trial / condition of this block]':'Rating1',\n",
    "                  'Rate the conditions in regard to how well you could navigate in each of them from 1 to 5. A lower number indicates you had a harder time navigating in it.  [3rd trial / condition of this block]':'Rating2'}\n",
    "\n",
    "block_evaluation.rename(columns=rename_columns, inplace=True)"
   ]
  },
  {
   "cell_type": "code",
   "execution_count": 12,
   "id": "5a68ff14-250c-499d-b40b-25b3b9d654fb",
   "metadata": {},
   "outputs": [
    {
     "data": {
      "text/html": [
       "<div>\n",
       "<style scoped>\n",
       "    .dataframe tbody tr th:only-of-type {\n",
       "        vertical-align: middle;\n",
       "    }\n",
       "\n",
       "    .dataframe tbody tr th {\n",
       "        vertical-align: top;\n",
       "    }\n",
       "\n",
       "    .dataframe thead th {\n",
       "        text-align: right;\n",
       "    }\n",
       "</style>\n",
       "<table border=\"1\" class=\"dataframe\">\n",
       "  <thead>\n",
       "    <tr style=\"text-align: right;\">\n",
       "      <th></th>\n",
       "      <th>MostTiring</th>\n",
       "      <th>LeastTiring</th>\n",
       "      <th>MostComfortable</th>\n",
       "      <th>LeastComfortable</th>\n",
       "      <th>HighestFunctionalRating</th>\n",
       "      <th>LowestFunctionalRating</th>\n",
       "    </tr>\n",
       "  </thead>\n",
       "  <tbody>\n",
       "    <tr>\n",
       "      <th>Gaze Locked</th>\n",
       "      <td>68.115942</td>\n",
       "      <td>14.492754</td>\n",
       "      <td>13.043478</td>\n",
       "      <td>76.811594</td>\n",
       "      <td>14.492754</td>\n",
       "      <td>68.115942</td>\n",
       "    </tr>\n",
       "    <tr>\n",
       "      <th>Gaze Contingent</th>\n",
       "      <td>13.043478</td>\n",
       "      <td>43.478261</td>\n",
       "      <td>47.826087</td>\n",
       "      <td>8.695652</td>\n",
       "      <td>47.826087</td>\n",
       "      <td>17.391304</td>\n",
       "    </tr>\n",
       "    <tr>\n",
       "      <th>Gaze Ignored</th>\n",
       "      <td>18.840580</td>\n",
       "      <td>42.028986</td>\n",
       "      <td>39.130435</td>\n",
       "      <td>14.492754</td>\n",
       "      <td>37.681159</td>\n",
       "      <td>14.492754</td>\n",
       "    </tr>\n",
       "  </tbody>\n",
       "</table>\n",
       "</div>"
      ],
      "text/plain": [
       "                 MostTiring  LeastTiring  MostComfortable  LeastComfortable  \\\n",
       "Gaze Locked       68.115942    14.492754        13.043478         76.811594   \n",
       "Gaze Contingent   13.043478    43.478261        47.826087          8.695652   \n",
       "Gaze Ignored      18.840580    42.028986        39.130435         14.492754   \n",
       "\n",
       "                 HighestFunctionalRating  LowestFunctionalRating  \n",
       "Gaze Locked                    14.492754               68.115942  \n",
       "Gaze Contingent                47.826087               17.391304  \n",
       "Gaze Ignored                   37.681159               14.492754  "
      ]
     },
     "metadata": {},
     "output_type": "display_data"
    },
    {
     "data": {
      "text/html": [
       "<div>\n",
       "<style scoped>\n",
       "    .dataframe tbody tr th:only-of-type {\n",
       "        vertical-align: middle;\n",
       "    }\n",
       "\n",
       "    .dataframe tbody tr th {\n",
       "        vertical-align: top;\n",
       "    }\n",
       "\n",
       "    .dataframe thead th {\n",
       "        text-align: right;\n",
       "    }\n",
       "</style>\n",
       "<table border=\"1\" class=\"dataframe\">\n",
       "  <thead>\n",
       "    <tr style=\"text-align: right;\">\n",
       "      <th></th>\n",
       "      <th>MotionSick</th>\n",
       "      <th>SubjectiveRating</th>\n",
       "    </tr>\n",
       "    <tr>\n",
       "      <th>GazeCondition</th>\n",
       "      <th></th>\n",
       "      <th></th>\n",
       "    </tr>\n",
       "  </thead>\n",
       "  <tbody>\n",
       "    <tr>\n",
       "      <th>Gaze Contingent</th>\n",
       "      <td>0.059701</td>\n",
       "      <td>3.579710</td>\n",
       "    </tr>\n",
       "    <tr>\n",
       "      <th>Gaze Ignored</th>\n",
       "      <td>0.059701</td>\n",
       "      <td>3.420290</td>\n",
       "    </tr>\n",
       "    <tr>\n",
       "      <th>Gaze Locked</th>\n",
       "      <td>0.268657</td>\n",
       "      <td>2.507246</td>\n",
       "    </tr>\n",
       "  </tbody>\n",
       "</table>\n",
       "</div>"
      ],
      "text/plain": [
       "                MotionSick  SubjectiveRating\n",
       "GazeCondition                               \n",
       "Gaze Contingent   0.059701          3.579710\n",
       "Gaze Ignored      0.059701          3.420290\n",
       "Gaze Locked       0.268657          2.507246"
      ]
     },
     "metadata": {},
     "output_type": "display_data"
    }
   ],
   "source": [
    "columns = ['MostTiring', 'LeastTiring', 'MostComfortable', 'LeastComfortable']\n",
    "percentages = pd.DataFrame(columns=columns, index=['SimulationFixedToGaze','GazeAssistedSampling', 'GazeIgnored'])\n",
    "for col in columns:\n",
    "    percentages[col] = 100*block_evaluation[col].value_counts(normalize=True)\n",
    "\n",
    "for (subject, block), data in block_evaluation.groupby(['Subject', 'Block']):\n",
    "    for trial in range(3):\n",
    "        trc_data.loc[(subject,block, trial), 'MotionSick'] = data[f'MotionSick{trial}'].item()\n",
    "        trc_data.loc[(subject,block, trial), 'SubjectiveRating'] = data[f'Rating{trial}'].item()\n",
    "trc_data.replace({'No':False, 'Yes':True}, inplace=True)\n",
    "\n",
    "highest = trc_data.groupby(['Subject', 'Block']).SubjectiveRating.idxmax()\n",
    "lowest  = trc_data.groupby(['Subject', 'Block']).SubjectiveRating.idxmin()\n",
    "\n",
    "\n",
    "percentages['HighestFunctionalRating'] = 100*trc_data.loc[highest].GazeCondition.value_counts(normalize=True)\n",
    "percentages['LowestFunctionalRating'] = 100*trc_data.loc[lowest].GazeCondition.value_counts(normalize=True)\n",
    "\n",
    "percentages.rename(index=visualization.COND_REDEFINED, inplace=True)\n",
    "display(percentages)\n",
    "display(trc_data.replace(visualization.COND_REDEFINED).groupby('GazeCondition')[['MotionSick', 'SubjectiveRating']].mean())"
   ]
  },
  {
   "cell_type": "markdown",
   "id": "8c6a5e96-8562-4215-a76a-11e76dfd6fdd",
   "metadata": {},
   "source": [
    "## Exit survey"
   ]
  },
  {
   "cell_type": "code",
   "execution_count": 75,
   "id": "3cd796c0-5f1a-4659-b3a2-490eea345c21",
   "metadata": {},
   "outputs": [],
   "source": [
    "fn = \"../../_Datasets/SPVGazeData/_mobility_questionnaire.csv\"\n",
    "exit_survey = pd.read_csv(fn, sep=';')\n",
    "exit_survey.rename(columns={'Subject Information [Subject ID]': 'Subject',}, inplace=True)\n",
    "exit_survey.drop(columns=['Response ID', 'Date submitted', 'Last page', 'Start language', 'Seed'], inplace=True)\n",
    "exit_survey.set_index('Subject', inplace=True)\n",
    "questions = exit_survey.columns\n",
    "question_mapping = {f'Q{i:02d}': q for i,q in enumerate(questions)}\n",
    "reverse_mapping = {val:key for key,val in question_mapping.items()}\n",
    "responses = exit_survey.copy()\n",
    "responses.columns=question_mapping.keys()"
   ]
  },
  {
   "cell_type": "code",
   "execution_count": 76,
   "id": "c9a7d3b9-657a-49ae-a198-afb6079443af",
   "metadata": {},
   "outputs": [
    {
     "data": {
      "text/plain": [
       "{'Q00': 'Do you feel like you had enough training time with the simulated phosphene vision and the different conditions?  Use the comment box to add an explanation / details. ',\n",
       " 'Q01': 'Do you feel like you had enough training time with the simulated phosphene vision and the different conditions?  Use the comment box to add an explanation / details.  [Comment]',\n",
       " 'Q02': 'Did you feel like you were still getting better throughout the trials in interpreting the simulated phosphene vision?  Use the comment box to add an explanation / details. ',\n",
       " 'Q03': 'Did you feel like you were still getting better throughout the trials in interpreting the simulated phosphene vision?  Use the comment box to add an explanation / details.  [Comment]',\n",
       " 'Q04': 'Can you indicate whether you used any particular strategies to navigate? Use the comment box for any added information (e.g. only in specific conditions, specifications)  [relied on hands for specific parts (which?)]',\n",
       " 'Q05': 'Can you indicate whether you used any particular strategies to navigate? Use the comment box for any added information (e.g. only in specific conditions, specifications)  [relied on hands for specific parts (which?)][Comment]',\n",
       " 'Q06': 'Can you indicate whether you used any particular strategies to navigate? Use the comment box for any added information (e.g. only in specific conditions, specifications)  [exaggerated or rhythmic head movements]',\n",
       " 'Q07': 'Can you indicate whether you used any particular strategies to navigate? Use the comment box for any added information (e.g. only in specific conditions, specifications)  [exaggerated or rhythmic head movements][Comment]',\n",
       " 'Q08': 'Can you indicate whether you used any particular strategies to navigate? Use the comment box for any added information (e.g. only in specific conditions, specifications)  [estimating depth by moving sideways]',\n",
       " 'Q09': 'Can you indicate whether you used any particular strategies to navigate? Use the comment box for any added information (e.g. only in specific conditions, specifications)  [estimating depth by moving sideways][Comment]',\n",
       " 'Q10': 'Can you indicate whether you used any particular strategies to navigate? Use the comment box for any added information (e.g. only in specific conditions, specifications)  [estimating boundaries with the center most pixels/phosphenes]',\n",
       " 'Q11': 'Can you indicate whether you used any particular strategies to navigate? Use the comment box for any added information (e.g. only in specific conditions, specifications)  [estimating boundaries with the center most pixels/phosphenes][Comment]',\n",
       " 'Q12': 'Can you indicate whether you used any particular strategies to navigate? Use the comment box for any added information (e.g. only in specific conditions, specifications)  [estimating boundaries with the outer/peripheral pixels/phosphenes]',\n",
       " 'Q13': 'Can you indicate whether you used any particular strategies to navigate? Use the comment box for any added information (e.g. only in specific conditions, specifications)  [estimating boundaries with the outer/peripheral pixels/phosphenes][Comment]',\n",
       " 'Q14': 'Can you indicate whether you used any particular strategies to navigate? Use the comment box for any added information (e.g. only in specific conditions, specifications)  [ sticking to the walls]',\n",
       " 'Q15': 'Can you indicate whether you used any particular strategies to navigate? Use the comment box for any added information (e.g. only in specific conditions, specifications)  [ sticking to the walls][Comment]',\n",
       " 'Q16': 'Can you indicate whether you used any particular strategies to navigate? Use the comment box for any added information (e.g. only in specific conditions, specifications)  [ moving straight-forward with as little sideway movement as possible]',\n",
       " 'Q17': 'Can you indicate whether you used any particular strategies to navigate? Use the comment box for any added information (e.g. only in specific conditions, specifications)  [ moving straight-forward with as little sideway movement as possible][Comment]',\n",
       " 'Q18': 'Can you indicate whether you used any particular strategies to navigate? Use the comment box for any added information (e.g. only in specific conditions, specifications)  [Other]',\n",
       " 'Q19': 'Can you indicate whether you used any particular strategies to navigate? Use the comment box for any added information (e.g. only in specific conditions, specifications)  [Other comment]',\n",
       " 'Q20': 'Did your strategies change throughout the experiment? If so, can you explain why? ',\n",
       " 'Q21': 'Did your strategies change throughout the experiment? If so, can you explain why?  [Comment]',\n",
       " 'Q22': 'How used to / comfortable with using controllers are you? With a 1 being unfamiliar with controllers and 5 being controllers feeling natural to use to you.',\n",
       " 'Q23': 'How often have you used a virtual reality headset before? (e.g. HTC Vive, Oculus Quest, Google Cardboard, Oculus Rift, ...)',\n",
       " 'Q24': 'Did you ever use the HTC Vive Wands (the controllers used in the experiment before)?',\n",
       " 'Q25': 'Do you experience motion sickness regularly? (e.g. on the bus / train, while driving, in other VR environments, ...)',\n",
       " 'Q26': 'Did you participate in any phosphene vision experiment or demo before?',\n",
       " 'Q27': 'How old are you?',\n",
       " 'Q28': 'What sex were you assigned at birth / what is on your birth certificate?',\n",
       " 'Q29': 'Pick the gender identity that best describes you currently',\n",
       " 'Q30': 'How tall are you? (in cm)'}"
      ]
     },
     "execution_count": 76,
     "metadata": {},
     "output_type": "execute_result"
    }
   ],
   "source": [
    "question_mapping"
   ]
  },
  {
   "cell_type": "markdown",
   "id": "7671c1be-1c8e-4bfe-adf8-b9caea66ce66",
   "metadata": {},
   "source": [
    "### Demographics (Q22-Q30)"
   ]
  },
  {
   "cell_type": "code",
   "execution_count": 77,
   "id": "c2ea1d0a",
   "metadata": {},
   "outputs": [
    {
     "data": {
      "text/html": [
       "<div>\n",
       "<style scoped>\n",
       "    .dataframe tbody tr th:only-of-type {\n",
       "        vertical-align: middle;\n",
       "    }\n",
       "\n",
       "    .dataframe tbody tr th {\n",
       "        vertical-align: top;\n",
       "    }\n",
       "\n",
       "    .dataframe thead th {\n",
       "        text-align: right;\n",
       "    }\n",
       "</style>\n",
       "<table border=\"1\" class=\"dataframe\">\n",
       "  <thead>\n",
       "    <tr style=\"text-align: right;\">\n",
       "      <th></th>\n",
       "      <th>Age</th>\n",
       "      <th>Height</th>\n",
       "    </tr>\n",
       "  </thead>\n",
       "  <tbody>\n",
       "    <tr>\n",
       "      <th>count</th>\n",
       "      <td>23.000000</td>\n",
       "      <td>23.000000</td>\n",
       "    </tr>\n",
       "    <tr>\n",
       "      <th>mean</th>\n",
       "      <td>24.260870</td>\n",
       "      <td>173.347826</td>\n",
       "    </tr>\n",
       "    <tr>\n",
       "      <th>std</th>\n",
       "      <td>1.935726</td>\n",
       "      <td>8.133034</td>\n",
       "    </tr>\n",
       "    <tr>\n",
       "      <th>min</th>\n",
       "      <td>22.000000</td>\n",
       "      <td>162.000000</td>\n",
       "    </tr>\n",
       "    <tr>\n",
       "      <th>25%</th>\n",
       "      <td>23.000000</td>\n",
       "      <td>165.000000</td>\n",
       "    </tr>\n",
       "    <tr>\n",
       "      <th>50%</th>\n",
       "      <td>24.000000</td>\n",
       "      <td>174.000000</td>\n",
       "    </tr>\n",
       "    <tr>\n",
       "      <th>75%</th>\n",
       "      <td>25.000000</td>\n",
       "      <td>180.000000</td>\n",
       "    </tr>\n",
       "    <tr>\n",
       "      <th>max</th>\n",
       "      <td>30.000000</td>\n",
       "      <td>188.000000</td>\n",
       "    </tr>\n",
       "  </tbody>\n",
       "</table>\n",
       "</div>"
      ],
      "text/plain": [
       "             Age      Height\n",
       "count  23.000000   23.000000\n",
       "mean   24.260870  173.347826\n",
       "std     1.935726    8.133034\n",
       "min    22.000000  162.000000\n",
       "25%    23.000000  165.000000\n",
       "50%    24.000000  174.000000\n",
       "75%    25.000000  180.000000\n",
       "max    30.000000  188.000000"
      ]
     },
     "execution_count": 77,
     "metadata": {},
     "output_type": "execute_result"
    }
   ],
   "source": [
    "demographics = responses[['Q27', 'Q30']].rename(columns={'Q27':'Age','Q30':'Height'}).astype(float).copy()\n",
    "demographics.describe()"
   ]
  },
  {
   "cell_type": "code",
   "execution_count": 78,
   "id": "afc95807",
   "metadata": {},
   "outputs": [
    {
     "name": "stdout",
     "output_type": "stream",
     "text": [
      "Q28: What sex were you assigned at birth / what is on your birth certificate?\n",
      "Q22: How used to / comfortable with using controllers are you? With a 1 being unfamiliar with controllers and 5 being controllers feeling natural to use to you.\n",
      "Q23: How often have you used a virtual reality headset before? (e.g. HTC Vive, Oculus Quest, Google Cardboard, Oculus Rift, ...)\n",
      "Q24: Did you ever use the HTC Vive Wands (the controllers used in the experiment before)?\n",
      "Q25: Do you experience motion sickness regularly? (e.g. on the bus / train, while driving, in other VR environments, ...)\n"
     ]
    },
    {
     "data": {
      "image/png": "[encoded data removed]",
      "text/plain": [
       "<Figure size 2400x1200 with 5 Axes>"
      ]
     },
     "metadata": {},
     "output_type": "display_data"
    }
   ],
   "source": [
    "questions = ['Q28', 'Q22', 'Q23','Q24','Q25']\n",
    "\n",
    "# Load color palette\n",
    "visualization.set_figurestyle('../_figurestyle/small.mplstyle')\n",
    "c = list(visualization.COLORS.values())\n",
    "\n",
    "\n",
    "fig, axs = plt.subplots(1,len(questions), figsize=(8,4))#visualization.create_subplots(len(questions), figsize=(10,10))\n",
    "for i,q in enumerate(questions):# 'Q12', 'Q13', 'Q14', 'Q12']:\n",
    "#     palette = sns.color_palette(f\"blend:{c[1]},{c[2]},{c[0]}\", n_colors=responses[q].nunique())\n",
    "    palette = sns.color_palette(f\"blend:{c[0]},{c[1]}\", n_colors=responses[q].nunique())\n",
    "    sns.set_palette(sns.color_palette(palette))\n",
    "    \n",
    "    h = responses[q].value_counts().T.plot(kind='pie', stacked=True, ax= axs[i])\n",
    "    axs[i].set(title=q, ylabel='')\n",
    "    print(f'{q}: {question_mapping[q]}')\n",
    "plt.tight_layout()"
   ]
  },
  {
   "cell_type": "markdown",
   "id": "5901c231",
   "metadata": {},
   "source": [
    "### Practice / self-reported level of experience (Q7 - Q11) - Likert Scales"
   ]
  },
  {
   "cell_type": "code",
   "execution_count": 83,
   "id": "601c54f7-f865-413a-b739-e90170d3d595",
   "metadata": {},
   "outputs": [
    {
     "name": "stdout",
     "output_type": "stream",
     "text": [
      "Q00: Do you feel like you had enough training time with the simulated phosphene vision and the different conditions?  Use the comment box to add an explanation / details. \n",
      "Q02: Did you feel like you were still getting better throughout the trials in interpreting the simulated phosphene vision?  Use the comment box to add an explanation / details. \n"
     ]
    },
    {
     "data": {
      "text/html": [
       "<div>\n",
       "<style scoped>\n",
       "    .dataframe tbody tr th:only-of-type {\n",
       "        vertical-align: middle;\n",
       "    }\n",
       "\n",
       "    .dataframe tbody tr th {\n",
       "        vertical-align: top;\n",
       "    }\n",
       "\n",
       "    .dataframe thead th {\n",
       "        text-align: right;\n",
       "    }\n",
       "</style>\n",
       "<table border=\"1\" class=\"dataframe\">\n",
       "  <thead>\n",
       "    <tr style=\"text-align: right;\">\n",
       "      <th></th>\n",
       "      <th>Q00</th>\n",
       "      <th>Q02</th>\n",
       "    </tr>\n",
       "  </thead>\n",
       "  <tbody>\n",
       "    <tr>\n",
       "      <th>Yes</th>\n",
       "      <td>95.652174</td>\n",
       "      <td>95.652174</td>\n",
       "    </tr>\n",
       "    <tr>\n",
       "      <th>No</th>\n",
       "      <td>4.347826</td>\n",
       "      <td>4.347826</td>\n",
       "    </tr>\n",
       "  </tbody>\n",
       "</table>\n",
       "</div>"
      ],
      "text/plain": [
       "           Q00        Q02\n",
       "Yes  95.652174  95.652174\n",
       "No    4.347826   4.347826"
      ]
     },
     "metadata": {},
     "output_type": "display_data"
    },
    {
     "data": {
      "image/png": "[encoded data removed]",
      "text/plain": [
       "<Figure size 600x600 with 2 Axes>"
      ]
     },
     "metadata": {},
     "output_type": "display_data"
    }
   ],
   "source": [
    "questions = ['Q00', 'Q02']\n",
    "\n",
    "# Load color palette\n",
    "visualization.set_figurestyle('../_figurestyle/small.mplstyle')\n",
    "c = list(visualization.COLORS.values())\n",
    "\n",
    "\n",
    "fig, axs = plt.subplots(1,len(questions), figsize=(2,2))#visualization.create_subplots(len(questions), figsize=(10,10))\n",
    "for i,q in enumerate(questions):# 'Q12', 'Q13', 'Q14', 'Q12']:\n",
    "#     palette = sns.color_palette(f\"blend:{c[1]},{c[2]},{c[0]}\", n_colors=responses[q].nunique())\n",
    "    palette = sns.color_palette(f\"blend:{c[0]},{c[1]}\", n_colors=responses[q].nunique())\n",
    "    sns.set_palette(sns.color_palette(palette))\n",
    "    \n",
    "    h = responses[q].value_counts().T.plot(kind='pie', stacked=True, ax= axs[i])\n",
    "    axs[i].set(title=q, ylabel='')\n",
    "    print(f'{q}: {question_mapping[q]}')\n",
    "plt.tight_layout()\n",
    "\n",
    "display(100*responses[questions].apply(lambda col: col.value_counts(normalize=True)))"
   ]
  },
  {
   "cell_type": "markdown",
   "id": "f29f7b1b",
   "metadata": {},
   "source": [
    "### Strategies (Q04 - Q18)"
   ]
  },
  {
   "cell_type": "code",
   "execution_count": 112,
   "id": "533970f9-3dd6-4724-89c1-785d66627ce4",
   "metadata": {},
   "outputs": [
    {
     "data": {
      "text/html": [
       "<div>\n",
       "<style scoped>\n",
       "    .dataframe tbody tr th:only-of-type {\n",
       "        vertical-align: middle;\n",
       "    }\n",
       "\n",
       "    .dataframe tbody tr th {\n",
       "        vertical-align: top;\n",
       "    }\n",
       "\n",
       "    .dataframe thead th {\n",
       "        text-align: right;\n",
       "    }\n",
       "</style>\n",
       "<table border=\"1\" class=\"dataframe\">\n",
       "  <thead>\n",
       "    <tr style=\"text-align: right;\">\n",
       "      <th></th>\n",
       "      <th>Relied on hands</th>\n",
       "      <th>exaggerated or rhythmic head movements</th>\n",
       "      <th>estimating depth by moving sideways</th>\n",
       "      <th>estimating boundaries with the center most pixels/phosphenes</th>\n",
       "      <th>estimating boundaries with the outer/peripheral pixels/phosphenes</th>\n",
       "      <th>sticking to the walls</th>\n",
       "      <th>moving straight-forward with as little sideway movement as possible</th>\n",
       "      <th>Changed strategy</th>\n",
       "    </tr>\n",
       "  </thead>\n",
       "  <tbody>\n",
       "    <tr>\n",
       "      <th>No</th>\n",
       "      <td>56.521739</td>\n",
       "      <td>43.478261</td>\n",
       "      <td>60.869565</td>\n",
       "      <td>39.130435</td>\n",
       "      <td>52.173913</td>\n",
       "      <td>39.130435</td>\n",
       "      <td>43.478261</td>\n",
       "      <td>47.826087</td>\n",
       "    </tr>\n",
       "    <tr>\n",
       "      <th>Yes</th>\n",
       "      <td>43.478261</td>\n",
       "      <td>56.521739</td>\n",
       "      <td>39.130435</td>\n",
       "      <td>60.869565</td>\n",
       "      <td>47.826087</td>\n",
       "      <td>60.869565</td>\n",
       "      <td>56.521739</td>\n",
       "      <td>52.173913</td>\n",
       "    </tr>\n",
       "  </tbody>\n",
       "</table>\n",
       "</div>"
      ],
      "text/plain": [
       "     Relied on hands  exaggerated or rhythmic head movements  \\\n",
       "No         56.521739                               43.478261   \n",
       "Yes        43.478261                               56.521739   \n",
       "\n",
       "     estimating depth by moving sideways  \\\n",
       "No                             60.869565   \n",
       "Yes                            39.130435   \n",
       "\n",
       "     estimating boundaries with the center most pixels/phosphenes  \\\n",
       "No                                           39.130435              \n",
       "Yes                                          60.869565              \n",
       "\n",
       "     estimating boundaries with the outer/peripheral pixels/phosphenes  \\\n",
       "No                                           52.173913                   \n",
       "Yes                                          47.826087                   \n",
       "\n",
       "     sticking to the walls  \\\n",
       "No               39.130435   \n",
       "Yes              60.869565   \n",
       "\n",
       "     moving straight-forward with as little sideway movement as possible  \\\n",
       "No                                           43.478261                     \n",
       "Yes                                          56.521739                     \n",
       "\n",
       "     Changed strategy  \n",
       "No          47.826087  \n",
       "Yes         52.173913  "
      ]
     },
     "execution_count": 112,
     "metadata": {},
     "output_type": "execute_result"
    }
   ],
   "source": [
    "strategies = responses[[f'Q{i:02d}' for i in range(4,18,2)] + ['Q20']].copy()\n",
    "strategies.rename(columns = {'Q04':'Relied on hands',\n",
    "                            'Q06':'exaggerated or rhythmic head movements',\n",
    "                            'Q08': 'estimating depth by moving sideways',\n",
    "                            'Q10': 'estimating boundaries with the center most pixels/phosphenes',\n",
    "                            'Q12': 'estimating boundaries with the outer/peripheral pixels/phosphenes',\n",
    "                            'Q14': 'sticking to the walls',\n",
    "                            'Q16': 'moving straight-forward with as little sideway movement as possible',\n",
    "                             # 'Q18': 'other',\n",
    "                             'Q20': 'Changed strategy'\n",
    "                            }, inplace=True )\n",
    "100*strategies.apply(lambda col: col.value_counts(normalize=True))"
   ]
  },
  {
   "cell_type": "code",
   "execution_count": 130,
   "id": "07125cb5-d97e-40bc-9b73-03df43db58e9",
   "metadata": {},
   "outputs": [
    {
     "name": "stdout",
     "output_type": "stream",
     "text": [
      "Relied on hands:\n",
      "['I had trouble relying on hands, but I tried to do that here and there when I got stuck behind a big block and needed to tell it apart from a wall.'\n",
      " 'Touched walls around me to see if I was close or far - especially when I had a narrower space to move through'\n",
      " 'just a little bit' 'feeling the distance between me and the obstacle'\n",
      " 'to feel whats around me'\n",
      " 'I tried doing this but found it was very time consuming and stopped by the third round.'\n",
      " 'the low box that was left of me at the beginning of the trial.'\n",
      " 'to figure out how close I was to an object' 'sometimes the walls'\n",
      " 'outer walls']\n",
      "\n",
      "exaggerated or rhythmic head movements:\n",
      "['Apparently I moved my head more than I moved my eyes. '\n",
      " 'especially with lower boxes right in front of me'\n",
      " 'my periphery was very limited so I needed to move my head to see around'\n",
      " 'I definitely tried to visualize the entirety of the space by moving my head a lot. '\n",
      " 'to find obstacles'\n",
      " 'I tried to scan the whole environment, moving my head in circles. '\n",
      " 'in the \"gaze ignored\" condition especially, moving my head to scan along edges of objects was very helpful'\n",
      " 'left-right if I had to walk through 2 objects'\n",
      " 'keeping my head still seemedd to decrease the white dots']\n",
      "\n",
      "estimating depth by moving sideways:\n",
      "['This is how I tried to find the endings of big boxes. '\n",
      " 'mostly in see only fovea condition']\n",
      "\n",
      "estimating boundaries with the center most pixels/phosphenes:\n",
      "['mostly in see only fovea condition'\n",
      " 'tracing the edges of an object with my gaze/head movements helped with identifying objects. I did this by tracing the edge while keeping it within the center pixels'\n",
      " 'mostly when looking at the ground to see how close I could get to an object']\n",
      "\n",
      "estimating boundaries with the outer/peripheral pixels/phosphenes:\n",
      "['the entire time']\n",
      "\n",
      "sticking to the walls:\n",
      "['only in the beginning of each condition' 'always'\n",
      " 'to find my own placement'\n",
      " 'Tried to walk as close to the wall as possible on th eother side of the object, if there was only one.'\n",
      " 'outer walls']\n",
      "\n",
      "moving straight-forward with as little sideway movement as possible:\n",
      "['I found that sideways movementscould help me when I was standing directly in front of walls/objects, but I had trouble estimating how wide and deep my body was.'\n",
      " 'passign through 2 obstacles']\n",
      "\n",
      "Changed strategy:\n",
      "['The smaller blocks were much easier to perceive, so I would tend to orient myself by approaching/seeking those blocks.'\n",
      " 'more of both listed under \"other\" above'\n",
      " 'Not hugely but by the second block I occasionally tried to look ahead to see if going left vs right around a block led to a straighter path'\n",
      " \"First I didn't have a strategy. I learnt how to use eyemovement to scan the area.\"\n",
      " 'I feel that I used different strategies for different conditions.'\n",
      " 'i started trusting my vision more as more time passed'\n",
      " 'I stopped using my hands entirely at somepoint because I was not finding it that helpful. I also felt that my understading of how close I was to objects improved so I could more easily guess if I could move sideways without hitting something without having to actually look. I also think I defaulted to just moving my head more because that worked every time, whereas moving my eyes in some cases did nothing and in other cases made me feel a bit sick. '\n",
      " 'I noticed that not moving my head and using the joystick to navigate was easiest, also to lose less track of orientation in the environment. Also, sticking close to the wall seemed a good strategy I think.'\n",
      " 'because i noticed this strategy worked better for not colliding into walls.'\n",
      " 'In the beginning I mostly looked down, to where the edges of the boxes were, but in the end, I tried to take into account the upper edges of the boxes too. In that way, I could see better whether I was walking into a wall or if it was a box. '\n",
      " \"yes, slightly. Because I had trouble estimating how 'wide' my body is I started to rely more on turning, forwards movement. Especially in the gaze locked condition I tried to keep my gaze locked to the center of the screen, because I found it disorienting when the phosphenes followed my gaze. (This was not the case for the gaze assisted scenario, in which moving my eyes felt intuitive)\"\n",
      " 'Focus on edges and just have faith.'\n",
      " 'some environment had more boxes than the others so i had to find a better way to navigate those'\n",
      " 'For eye movement locked, especially at the beginning, looking around by turning your head is far more stabilizing. In the other experiments I could quite easily look around to navigate: entire head movement felt not nessecary']\n",
      "\n",
      "Other (listed): \n",
      " Q18\n",
      "keep eyes still; look down (via head tilt) to identify edges/clear path on floor and mostly ignore eye-level info    0.166667\n",
      "Scan the envirmont with my eyes                                                                                      0.166667\n",
      "as little eye movement as possible                                                                                   0.166667\n",
      "Maximizing edge detection                                                                                            0.166667\n",
      "sticking to blocks                                                                                                   0.166667\n",
      "moving backwards to observe the scene more concentrated                                                              0.166667\n",
      "Name: proportion, dtype: float64\n",
      "\n",
      " Other (free comment):\n",
      " ['comment'\n",
      " \"This was way easier with the eyemovement conditions and didn't really work with the non-eyemovement condition.\"\n",
      " 'in condition B'\n",
      " 'I found it really confusing/disorienting when I was expecting an edge but could not see it because the color of one surface was the same as the background. I tried moving around or looking at the ground and ceiling to better understand the dimensions of obstacles. '\n",
      " 'i went as close to the wall or block in front of be and then went sideways'\n",
      " 'I feel like this allowed me to get a better understanding of where the objects were and re-focus.']\n"
     ]
    }
   ],
   "source": [
    "comments = [f'Q{i:02d}'for i in range(5,19,2)] + ['Q21']\n",
    "strategies = list(strategies) + ['Other', 'More other']\n",
    "for i,c in enumerate(comments):\n",
    "    print(f'{strategies[i]}:\\n{responses[c].dropna().unique()}\\n')\n",
    "\n",
    "print('Other (listed): \\n', responses.Q18.dropna().value_counts(normalize=True))\n",
    "print(f'\\n Other (free comment):\\n {responses.Q19.dropna().unique()}')"
   ]
  }
 ],
 "metadata": {
  "kernelspec": {
   "display_name": "Python 3 (ipykernel)",
   "language": "python",
   "name": "python3"
  },
  "language_info": {
   "codemirror_mode": {
    "name": "ipython",
    "version": 3
   },
   "file_extension": ".py",
   "mimetype": "text/x-python",
   "name": "python",
   "nbconvert_exporter": "python",
   "pygments_lexer": "ipython3",
   "version": "3.11.0"
  }
 },
 "nbformat": 4,
 "nbformat_minor": 5
}
